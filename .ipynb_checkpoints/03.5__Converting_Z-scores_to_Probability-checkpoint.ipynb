{
 "cells": [
  {
   "cell_type": "markdown",
   "metadata": {},
   "source": [
    "<center><img src='img/ms_logo.jpeg' height=40% width=40%></center>\n",
    "\n",
    "<center><h1>Z-Scores and Probability: Practice Problems</h1></center>\n",
    "\n",
    "This notebook is designed as a way to practice answering questions of probability using the Z scores and the Standard Normal Distribution.  \n",
    "\n",
    "Try to answer the three following questions:\n",
    "\n",
    "Shane: The answers written in this block was done by head, without using the inbuilt python programs.\n",
    "**1.**  The average height of students at Make School is 5'7\", with a standard deviation of 2.5 inches.  What percentage of Make School students are between 5'5\" and 6' tall?\n",
    "Mean: 67 inches\n",
    "Standard Deviation: 2.5 inches\n",
    "X1 = 65 inches\n",
    "X2 = 72 inches\n",
    "Z1 = -0.8 = 0.2119\n",
    "Z2 = 2.0 = 0.4772\n",
    "Z0 = 0.6891 = 68.91%\n",
    "\n",
    "<br>\n",
    "<br>\n",
    "**2.**  The average startup in San Francisco raises 1.5 million dollars with a standard deviation of 400,000 dollars.  Your boss wants to raise a 3 million dollar seed round.  Based only on how other startups have done, what are the odds (percentage chance) that he will be successful?\n",
    "Mean: 1,500,000\n",
    "Standard Deviation: 400,000\n",
    "X = 3,000,000\n",
    "Z = 3.75 = 0.0088%\n",
    "<br>\n",
    "<br>\n",
    "**3.**  You've decided to track the number of jokes Alan makes at Mike's expense during a given class period.  Alan averages 2.5 jokes about Mike per class, with a standard deviation of .7 jokes.  Mike has had a rough day, and will probably start crying if Alan makes more than 2 jokes about him today.  What is the percentage chance that Mike will NOT break down crying in class today?\n",
    "Mean: 2.5\n",
    "Standard Deviation: 0.7\n",
    "X = 2.0\n",
    "Z = -0.714285714 = 0.2420 = 24.20%\n",
    "\n",
    "**NOTE:** To solve these questions, you can use a lookup-table for the Z-score, or just use the stats package inside of scipy.  \n",
    "\n",
    "To compute the cumulative area to the **left** of a Z-score, use the cumulative density function.\n",
    "<br>\n",
    "<center>`st.norm.cdf(z-score)`</center>\n",
    "<br>\n",
    "\n",
    "To compute the cumulative area to the **right** of a Z-score, use the survival function.\n",
    "<br>\n",
    "<center>`st.norm.sf(z-score)`</center>\n",
    "<br>\n",
    "\n",
    "Recall that to calculate a Z-score for a particular point, you need to **_normalize_** it by subtracting the mean from that point, and then dividing that number by the standard deviation.  "
   ]
  },
  {
   "cell_type": "code",
   "execution_count": 1,
   "metadata": {},
   "outputs": [
    {
     "name": "stdout",
     "output_type": "stream",
     "text": [
      "Area to the left: 0.9494974165258963\n",
      "Area to the right: 0.05050258347410371\n",
      "total area under curve: 1.0\n"
     ]
    }
   ],
   "source": [
    "import scipy.stats as st\n",
    "# Example use:\n",
    "# A Z-score of ~1.64 == ~95% to the left, ~5% to the right\n",
    "left_tail = st.norm.cdf(1.64)\n",
    "right_tail = st.norm.sf(1.64)\n",
    "\n",
    "\n",
    "print(\"Area to the left: {}\".format(left_tail))\n",
    "print(\"Area to the right: {}\".format(right_tail))\n",
    "print(\"total area under curve: {}\".format(left_tail + right_tail))"
   ]
  },
  {
   "cell_type": "code",
   "execution_count": 10,
   "metadata": {},
   "outputs": [
    {
     "name": "stdout",
     "output_type": "stream",
     "text": [
      "Total Percentage of Students Between 5'5 and 6'0: 76.5394469468424%\n",
      "Statistical chance of raising 3 Million is 0.008841728520080378%\n",
      "Statistical chance of Mike crying today is 23.752526211529517%\n"
     ]
    }
   ],
   "source": [
    "# Now, write some code to find the answers to the questions listed above! \n",
    "fivefive = st.norm.cdf(-0.8)\n",
    "six = st.norm.cdf(2.0)\n",
    "print(\"Total Percentage of Students Between 5'5 and 6'0: {}%\".format((six - fivefive) * 100))\n",
    "\n",
    "threemil = st.norm.sf(3.75)\n",
    "print(\"Statistical chance of raising 3 Million is {}%\".format(threemil * 100))\n",
    "\n",
    "mike_crying = st.norm.cdf(-0.714285714)\n",
    "print(\"Statistical chance of Mike crying today is {}%\".format(mike_crying * 100))\n",
    "\n",
    "\n",
    "\n",
    "\n"
   ]
  },
  {
   "cell_type": "markdown",
   "metadata": {},
   "source": [
    "Answer 1: 76.5394469468424%\n",
    "\n",
    "\n",
    "\n",
    "Answer 2: 0.008841728520080378%\n",
    "\n",
    "\n",
    "\n",
    "Answer 3: 23.752526211529517%\n",
    "\n",
    "\n"
   ]
  }
 ],
 "metadata": {
  "kernelspec": {
   "display_name": "Python 3",
   "language": "python",
   "name": "python3"
  },
  "language_info": {
   "codemirror_mode": {
    "name": "ipython",
    "version": 3
   },
   "file_extension": ".py",
   "mimetype": "text/x-python",
   "name": "python",
   "nbconvert_exporter": "python",
   "pygments_lexer": "ipython3",
   "version": "3.6.4"
  }
 },
 "nbformat": 4,
 "nbformat_minor": 2
}
